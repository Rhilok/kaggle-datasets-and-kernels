{
 "cells": [
  {
   "cell_type": "markdown",
   "metadata": {},
   "source": [
    "<font size=6> Fuel Price in India </font>\n",
    "\n",
    "The data is daily diesel price across the various city in India. The charge varies state to state has Indian state government levy extra tax on the fuel. The government changed over time. The new fuel charge update rule came into effect.\n",
    "\n",
    "**Content**\n",
    "\n",
    "The data consist of the date, fuel price and city name. There are a total of seven cities, such as Bengaluru, Chennai, Mumbai, Hyderabad, Delhi, Kolkata and Coimbatore.\n",
    "\n",
    "* source: [mypetrolprice.com](https://www.mypetrolprice.com/diesel-price-in-india.aspx)\n",
    "\n",
    "<center><img src='fuel_station.jpg'></center>\n",
    "\n",
    "***\n",
    "**Steps**\n",
    "1. [Explore data set](#Explore-data-set)\n"
   ]
  },
  {
   "cell_type": "markdown",
   "metadata": {},
   "source": [
    "# Import library"
   ]
  },
  {
   "cell_type": "code",
   "execution_count": 2,
   "metadata": {},
   "outputs": [],
   "source": [
    "import pandas as pd\n",
    "import numpy as np\n",
    "import seaborn as sns\n",
    "import matplotlib.pyplot as plt"
   ]
  },
  {
   "cell_type": "markdown",
   "metadata": {},
   "source": [
    "# Import data set"
   ]
  },
  {
   "cell_type": "code",
   "execution_count": 9,
   "metadata": {},
   "outputs": [
    {
     "name": "stdout",
     "output_type": "stream",
     "text": [
      "Number of rows and columns in Hacker value data set (7882, 3)\n"
     ]
    }
   ],
   "source": [
    "path ='dataset/'\n",
    "#path = '../input/'\n",
    "\n",
    "df = pd.read_csv(path+'diesel.csv')\n",
    "print('Number of rows and columns in Hacker value data set',df.shape)"
   ]
  },
  {
   "cell_type": "code",
   "execution_count": 6,
   "metadata": {},
   "outputs": [],
   "source": [
    "city = {1:\"Bengaluru\",2:\"Chennai\",3:\"Mumbai\",4:\"Hyderabad\",5:\"Delhi\",6:\"Kolkata\",7:\"Coimbatore\"}"
   ]
  },
  {
   "cell_type": "code",
   "execution_count": 24,
   "metadata": {},
   "outputs": [],
   "source": [
    "df['cityid'] = df['cityid'].replace(city)"
   ]
  },
  {
   "cell_type": "code",
   "execution_count": 10,
   "metadata": {},
   "outputs": [],
   "source": [
    "state = {\"Bengaluru\":\"Karnataka\",\"Chennai\":\"Tamil Nadu\",\n",
    "         \"Mumbai\":\"Maharashtra\",\"Hyderabad\":\"Telangana\",\"Delhi\":\"Delhi\",\"Kolkata\":\"West Bengal\",\n",
    "         \"Coimbatore\":\"Tamil Nadu\"}"
   ]
  },
  {
   "cell_type": "code",
   "execution_count": 13,
   "metadata": {},
   "outputs": [],
   "source": [
    "df['state'] = df['city'].replace(state)"
   ]
  },
  {
   "cell_type": "code",
   "execution_count": 14,
   "metadata": {},
   "outputs": [
    {
     "data": {
      "text/html": [
       "<div>\n",
       "<style scoped>\n",
       "    .dataframe tbody tr th:only-of-type {\n",
       "        vertical-align: middle;\n",
       "    }\n",
       "\n",
       "    .dataframe tbody tr th {\n",
       "        vertical-align: top;\n",
       "    }\n",
       "\n",
       "    .dataframe thead th {\n",
       "        text-align: right;\n",
       "    }\n",
       "</style>\n",
       "<table border=\"1\" class=\"dataframe\">\n",
       "  <thead>\n",
       "    <tr style=\"text-align: right;\">\n",
       "      <th></th>\n",
       "      <th>rate</th>\n",
       "      <th>city</th>\n",
       "      <th>date</th>\n",
       "      <th>state</th>\n",
       "    </tr>\n",
       "  </thead>\n",
       "  <tbody>\n",
       "    <tr>\n",
       "      <th>0</th>\n",
       "      <td>18.23</td>\n",
       "      <td>Delhi</td>\n",
       "      <td>2002-06-16</td>\n",
       "      <td>Delhi</td>\n",
       "    </tr>\n",
       "    <tr>\n",
       "      <th>1</th>\n",
       "      <td>20.06</td>\n",
       "      <td>Chennai</td>\n",
       "      <td>2002-07-01</td>\n",
       "      <td>Tamil Nadu</td>\n",
       "    </tr>\n",
       "    <tr>\n",
       "      <th>2</th>\n",
       "      <td>18.23</td>\n",
       "      <td>Delhi</td>\n",
       "      <td>2002-07-01</td>\n",
       "      <td>Delhi</td>\n",
       "    </tr>\n",
       "    <tr>\n",
       "      <th>3</th>\n",
       "      <td>20.06</td>\n",
       "      <td>Chennai</td>\n",
       "      <td>2002-08-01</td>\n",
       "      <td>Tamil Nadu</td>\n",
       "    </tr>\n",
       "    <tr>\n",
       "      <th>4</th>\n",
       "      <td>18.23</td>\n",
       "      <td>Delhi</td>\n",
       "      <td>2002-08-01</td>\n",
       "      <td>Delhi</td>\n",
       "    </tr>\n",
       "  </tbody>\n",
       "</table>\n",
       "</div>"
      ],
      "text/plain": [
       "    rate     city        date       state\n",
       "0  18.23    Delhi  2002-06-16       Delhi\n",
       "1  20.06  Chennai  2002-07-01  Tamil Nadu\n",
       "2  18.23    Delhi  2002-07-01       Delhi\n",
       "3  20.06  Chennai  2002-08-01  Tamil Nadu\n",
       "4  18.23    Delhi  2002-08-01       Delhi"
      ]
     },
     "execution_count": 14,
     "metadata": {},
     "output_type": "execute_result"
    }
   ],
   "source": [
    "df.head()"
   ]
  },
  {
   "cell_type": "markdown",
   "metadata": {},
   "source": [
    "1. Bengaluru \n",
    "1. Chennai \n",
    "2. Mumbai \n",
    "3. Hyderabad \n",
    "4. Delhi \n",
    "5. Kolkata \n",
    "6. Coimbatore"
   ]
  },
  {
   "cell_type": "code",
   "execution_count": 28,
   "metadata": {},
   "outputs": [],
   "source": [
    "cols = ['BaseRate','cityid','Date']\n",
    "df1 = df[cols]\n",
    "columns = {'BaseRate':'rate','cityid':'city','Date':'date'}\n",
    "df1 = df1.rename(columns=columns)"
   ]
  },
  {
   "cell_type": "code",
   "execution_count": 15,
   "metadata": {},
   "outputs": [],
   "source": [
    "df.to_csv('dataset/diesel.csv',index=False)"
   ]
  },
  {
   "cell_type": "code",
   "execution_count": 3,
   "metadata": {},
   "outputs": [
    {
     "name": "stdout",
     "output_type": "stream",
     "text": [
      "Number of rows and columns in Hacker value data set (7882, 3)\n"
     ]
    }
   ],
   "source": [
    "path ='dataset/'\n",
    "#path = '../input/'\n",
    "\n",
    "df = pd.read_csv(path+'diesel1.csv')\n",
    "print('Number of rows and columns in Hacker value data set',df.shape)"
   ]
  },
  {
   "cell_type": "code",
   "execution_count": 8,
   "metadata": {},
   "outputs": [
    {
     "data": {
      "text/plain": [
       "'2002-06-16'"
      ]
     },
     "execution_count": 8,
     "metadata": {},
     "output_type": "execute_result"
    }
   ],
   "source": [
    "df['date'].min()"
   ]
  }
 ],
 "metadata": {
  "kernelspec": {
   "display_name": "Python 3",
   "language": "python",
   "name": "python3"
  },
  "language_info": {
   "codemirror_mode": {
    "name": "ipython",
    "version": 3
   },
   "file_extension": ".py",
   "mimetype": "text/x-python",
   "name": "python",
   "nbconvert_exporter": "python",
   "pygments_lexer": "ipython3",
   "version": "3.8.5"
  }
 },
 "nbformat": 4,
 "nbformat_minor": 4
}
